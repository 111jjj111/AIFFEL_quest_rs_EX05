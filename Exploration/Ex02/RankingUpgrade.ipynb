{
 "cells": [
  {
   "cell_type": "code",
   "execution_count": 1,
   "id": "e188e8eb",
   "metadata": {},
   "outputs": [
    {
     "name": "stdout",
     "output_type": "stream",
     "text": [
      "됐어?\n"
     ]
    }
   ],
   "source": [
    "import os\n",
    "import pandas as pd\n",
    "\n",
    "# 경로를 os.path.join()으로 수정\n",
    "data_dir = os.path.join(os.getenv('HOME'), 'aiffel/kaggle_kakr_housing/data')\n",
    "\n",
    "# train, test 데이터 경로 설정\n",
    "train_data_path = os.path.join(data_dir, 'train.csv')\n",
    "test_data_path = os.path.join(data_dir, 'test.csv')\n",
    "\n",
    "# 데이터 로드\n",
    "train = pd.read_csv(train_data_path)\n",
    "test = pd.read_csv(test_data_path)\n",
    "\n",
    "# 확인 메시지 출력\n",
    "print('됐어?')"
   ]
  },
  {
   "cell_type": "code",
   "execution_count": 2,
   "id": "d67983c2",
   "metadata": {},
   "outputs": [
    {
     "name": "stderr",
     "output_type": "stream",
     "text": [
      "/tmp/ipykernel_58/1516459514.py:4: FutureWarning: Dropping of nuisance columns in DataFrame reductions (with 'numeric_only=None') is deprecated; in a future version this will raise TypeError.  Select only valid columns before calling the reduction.\n",
      "  train = train.fillna(train.mean())  # 수치형 컬럼의 결측값은 평균으로 대체\n",
      "/tmp/ipykernel_58/1516459514.py:5: FutureWarning: Dropping of nuisance columns in DataFrame reductions (with 'numeric_only=None') is deprecated; in a future version this will raise TypeError.  Select only valid columns before calling the reduction.\n",
      "  test = test.fillna(test.mean())\n"
     ]
    },
    {
     "name": "stdout",
     "output_type": "stream",
     "text": [
      "      id  bedrooms  bathrooms  sqft_living  sqft_lot  floors  waterfront  \\\n",
      "0  15035         3       2.25         2570      7242     2.0           0   \n",
      "1  15036         4       3.00         1960      5000     1.0           0   \n",
      "2  15037         4       4.50         5420    101930     1.0           0   \n",
      "3  15038         3       1.00         1780      7470     1.0           0   \n",
      "4  15039         3       2.50         1890      6560     2.0           0   \n",
      "\n",
      "   view  condition  grade  ...  date_20150508T000000  date_20150509T000000  \\\n",
      "0     0          3      7  ...                     0                     0   \n",
      "1     0          5      7  ...                     0                     0   \n",
      "2     0          3     11  ...                     0                     0   \n",
      "3     0          3      7  ...                     0                     0   \n",
      "4     0          3      7  ...                     0                     0   \n",
      "\n",
      "   date_20150510T000000  date_20150511T000000  date_20150512T000000  \\\n",
      "0                     0                     0                     0   \n",
      "1                     0                     0                     0   \n",
      "2                     0                     0                     0   \n",
      "3                     0                     0                     0   \n",
      "4                     0                     0                     0   \n",
      "\n",
      "   date_20150513T000000  date_20150514T000000  date_20150515T000000  \\\n",
      "0                     0                     0                     0   \n",
      "1                     0                     0                     0   \n",
      "2                     0                     0                     0   \n",
      "3                     0                     0                     0   \n",
      "4                     0                     0                     0   \n",
      "\n",
      "   date_20150524T000000  date_20150527T000000  \n",
      "0                     0                     0  \n",
      "1                     0                     0  \n",
      "2                     0                     0  \n",
      "3                     0                     0  \n",
      "4                     0                     0  \n",
      "\n",
      "[5 rows x 366 columns]\n",
      "Index(['id', 'bedrooms', 'bathrooms', 'sqft_living', 'sqft_lot', 'floors',\n",
      "       'waterfront', 'view', 'condition', 'grade',\n",
      "       ...\n",
      "       'date_20150508T000000', 'date_20150509T000000', 'date_20150510T000000',\n",
      "       'date_20150511T000000', 'date_20150512T000000', 'date_20150513T000000',\n",
      "       'date_20150514T000000', 'date_20150515T000000', 'date_20150524T000000',\n",
      "       'date_20150527T000000'],\n",
      "      dtype='object', length=366)\n",
      "훈련 데이터 컬럼: Index(['id', 'price', 'bedrooms', 'bathrooms', 'sqft_living', 'sqft_lot',\n",
      "       'floors', 'waterfront', 'view', 'condition',\n",
      "       ...\n",
      "       'date_20150505T000000', 'date_20150506T000000', 'date_20150507T000000',\n",
      "       'date_20150508T000000', 'date_20150509T000000', 'date_20150510T000000',\n",
      "       'date_20150511T000000', 'date_20150512T000000', 'date_20150513T000000',\n",
      "       'date_20150514T000000'],\n",
      "      dtype='object', length=384)\n",
      "테스트 데이터 컬럼: Index(['id', 'bedrooms', 'bathrooms', 'sqft_living', 'sqft_lot', 'floors',\n",
      "       'waterfront', 'view', 'condition', 'grade',\n",
      "       ...\n",
      "       'date_20150508T000000', 'date_20150509T000000', 'date_20150510T000000',\n",
      "       'date_20150511T000000', 'date_20150512T000000', 'date_20150513T000000',\n",
      "       'date_20150514T000000', 'date_20150515T000000', 'date_20150524T000000',\n",
      "       'date_20150527T000000'],\n",
      "      dtype='object', length=366)\n"
     ]
    }
   ],
   "source": [
    "train.head()\n",
    "\n",
    "# 결측값 처리 예시\n",
    "train = train.fillna(train.mean())  # 수치형 컬럼의 결측값은 평균으로 대체\n",
    "test = test.fillna(test.mean())\n",
    "\n",
    "# 범주형 컬럼 원-핫 인코딩 예시\n",
    "train = pd.get_dummies(train, drop_first=True)\n",
    "test = pd.get_dummies(test, drop_first=True)\n",
    "\n",
    "# 변경 사항 확인\n",
    "print(test.head())\n",
    "print(test.columns)\n",
    "\n",
    "# 훈련 데이터와 테스트 데이터 컬럼 목록 확인\n",
    "train_columns = train.columns\n",
    "test_columns = test.columns\n",
    "\n",
    "print(f\"훈련 데이터 컬럼: {train_columns}\")\n",
    "print(f\"테스트 데이터 컬럼: {test_columns}\")\n",
    "\n",
    "# 훈련 데이터와 테스트 데이터에서 공통된 컬럼만 선택\n",
    "common_columns = train_columns.intersection(test_columns)\n",
    "\n",
    "# 공통 컬럼만 테스트 데이터에서 선택\n",
    "test = test[common_columns]\n",
    "\n",
    "# 이제 두 데이터의 컬럼 수가 맞게 되었습니다.\n",
    "\n",
    "# 훈련 데이터에서 원-핫 인코딩\n",
    "train = pd.get_dummies(train, drop_first=True)\n",
    "\n",
    "# 테스트 데이터에서 동일한 인코딩을 적용\n",
    "test = pd.get_dummies(test, drop_first=True)\n",
    "\n",
    "# 훈련 데이터와 테스트 데이터의 컬럼 순서 및 개수 맞추기\n",
    "test = test.reindex(columns=train.columns, fill_value=0)"
   ]
  },
  {
   "cell_type": "code",
   "execution_count": 38,
   "id": "f7a21e92",
   "metadata": {},
   "outputs": [],
   "source": [
    "import numpy as np  # numpy 임포트\n",
    "\n",
    "from xgboost import XGBRegressor\n",
    "from sklearn.ensemble import RandomForestRegressor\n",
    "from sklearn.model_selection import train_test_split\n",
    "\n",
    "# 데이터 분할\n",
    "X_train, X_test, y_train, y_test = train_test_split(train, y, test_size=0.2, random_state=42)\n",
    "\n",
    "# 모델 초기화\n",
    "xgb_model = XGBRegressor(random_state=42)\n",
    "rf_model = RandomForestRegressor(random_state=42)\n",
    "\n",
    "# 모델 학습\n",
    "xgb_model.fit(X_train, y_train)\n",
    "rf_model.fit(X_train, y_train)\n",
    "\n",
    "# 예측\n",
    "xgb_pred = xgb_model.predict(X_test)\n",
    "rf_pred = rf_model.predict(X_test)"
   ]
  },
  {
   "cell_type": "code",
   "execution_count": 39,
   "id": "59a4ed1e",
   "metadata": {},
   "outputs": [
    {
     "name": "stdout",
     "output_type": "stream",
     "text": [
      "Fitting 5 folds for each of 9 candidates, totalling 45 fits\n",
      "{'max_depth': 5, 'n_estimators': 100}\n"
     ]
    }
   ],
   "source": [
    "\n",
    "from sklearn.model_selection import GridSearchCV\n",
    "from lightgbm import LGBMRegressor\n",
    "\n",
    "param_grid = {\n",
    "    'n_estimators': [50, 100, 200],\n",
    "    'max_depth': [5, 10, 15]\n",
    "}\n",
    "\n",
    "lgbm = LGBMRegressor(random_state=42)\n",
    "\n",
    "grid_search = GridSearchCV(estimator=lgbm, param_grid=param_grid, \n",
    "                           scoring='neg_mean_squared_error', cv=5, verbose=1)\n",
    "\n",
    "grid_search.fit(X_train, y_train)\n",
    "\n",
    "# 최적 하이퍼파라미터 출력\n",
    "print(grid_search.best_params_)"
   ]
  },
  {
   "cell_type": "code",
   "execution_count": 40,
   "id": "a6c684e6",
   "metadata": {},
   "outputs": [
    {
     "name": "stdout",
     "output_type": "stream",
     "text": [
      "XGBoost RMSE: 6373.796275796151\n",
      "RandomForest RMSE: 2803.976707821867\n"
     ]
    }
   ],
   "source": [
    "from sklearn.metrics import mean_squared_error\n",
    "import numpy as np\n",
    "\n",
    "def rmse(y_true, y_pred):\n",
    "    return np.sqrt(mean_squared_error(np.expm1(y_true), np.expm1(y_pred)))\n",
    "\n",
    "# 예측 및 RMSE 계산\n",
    "xgb_rmse = rmse(y_test, xgb_pred)\n",
    "rf_rmse = rmse(y_test, rf_pred)\n",
    "\n",
    "print(\"XGBoost RMSE:\", xgb_rmse)\n",
    "print(\"RandomForest RMSE:\", rf_rmse)"
   ]
  },
  {
   "cell_type": "code",
   "execution_count": 1,
   "id": "58f2e176",
   "metadata": {},
   "outputs": [
    {
     "ename": "NameError",
     "evalue": "name 'xgb_model' is not defined",
     "output_type": "error",
     "traceback": [
      "\u001b[0;31m---------------------------------------------------------------------------\u001b[0m",
      "\u001b[0;31mNameError\u001b[0m                                 Traceback (most recent call last)",
      "\u001b[0;32m/tmp/ipykernel_76/1250294685.py\u001b[0m in \u001b[0;36m<module>\u001b[0;34m\u001b[0m\n\u001b[1;32m      2\u001b[0m \u001b[0;34m\u001b[0m\u001b[0m\n\u001b[1;32m      3\u001b[0m \u001b[0;31m# 이제 예측을 할 수 있습니다\u001b[0m\u001b[0;34m\u001b[0m\u001b[0;34m\u001b[0m\u001b[0m\n\u001b[0;32m----> 4\u001b[0;31m \u001b[0mfinal_predictions\u001b[0m \u001b[0;34m=\u001b[0m \u001b[0mxgb_model\u001b[0m\u001b[0;34m.\u001b[0m\u001b[0mpredict\u001b[0m\u001b[0;34m(\u001b[0m\u001b[0mtest\u001b[0m\u001b[0;34m)\u001b[0m\u001b[0;34m\u001b[0m\u001b[0;34m\u001b[0m\u001b[0m\n\u001b[0m\u001b[1;32m      5\u001b[0m \u001b[0mfinal_predictions\u001b[0m \u001b[0;34m=\u001b[0m \u001b[0mnp\u001b[0m\u001b[0;34m.\u001b[0m\u001b[0mexpm1\u001b[0m\u001b[0;34m(\u001b[0m\u001b[0mfinal_predictions\u001b[0m\u001b[0;34m)\u001b[0m  \u001b[0;31m# 로그 변환을 되돌리기\u001b[0m\u001b[0;34m\u001b[0m\u001b[0;34m\u001b[0m\u001b[0m\n\u001b[1;32m      6\u001b[0m \u001b[0;34m\u001b[0m\u001b[0m\n",
      "\u001b[0;31mNameError\u001b[0m: name 'xgb_model' is not defined"
     ]
    }
   ],
   "source": [
    "import os\n",
    "\n",
    "# 이제 예측을 할 수 있습니다\n",
    "final_predictions = xgb_model.predict(test)\n",
    "final_predictions = np.expm1(final_predictions)  # 로그 변환을 되돌리기\n",
    "\n",
    "# 제출할 파일 경로 설정\n",
    "submission_path = os.path.join(data_dir, 'submission.csv')\n",
    "\n",
    "# 예측 결과를 CSV 파일로 저장\n",
    "result = pd.DataFrame({'id': test['id'], 'price': final_predictions})\n",
    "result.to_csv(submission_path, index=False)\n",
    "\n",
    "print(f\"제출 파일이 저장되었습니다: {submission_path}\")"
   ]
  },
  {
   "cell_type": "code",
   "execution_count": null,
   "id": "f5a6228e",
   "metadata": {},
   "outputs": [],
   "source": []
  }
 ],
 "metadata": {
  "kernelspec": {
   "display_name": "Python 3 (ipykernel)",
   "language": "python",
   "name": "python3"
  },
  "language_info": {
   "codemirror_mode": {
    "name": "ipython",
    "version": 3
   },
   "file_extension": ".py",
   "mimetype": "text/x-python",
   "name": "python",
   "nbconvert_exporter": "python",
   "pygments_lexer": "ipython3",
   "version": "3.9.7"
  }
 },
 "nbformat": 4,
 "nbformat_minor": 5
}
