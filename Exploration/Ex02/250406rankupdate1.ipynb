{
 "cells": [
  {
   "cell_type": "code",
   "execution_count": 2,
   "id": "55e33ed2",
   "metadata": {},
   "outputs": [],
   "source": [
    "# --- 1. 라이브러리 임포트 ---\n",
    "import os\n",
    "import pandas as pd\n",
    "import numpy as np\n",
    "from sklearn.model_selection import KFold\n",
    "import lightgbm as lgb # LightGBM 임포트\n",
    "from sklearn.metrics import mean_squared_error\n",
    "from sklearn.preprocessing import StandardScaler"
   ]
  },
  {
   "cell_type": "code",
   "execution_count": 5,
   "id": "bca258c0",
   "metadata": {},
   "outputs": [],
   "source": [
    "# 경로를 os.path.join()으로 수정\n",
    "data_dir = os.path.join(os.getenv('HOME'), 'aiffel/kaggle_kakr_housing/data')\n",
    "\n",
    "# train, test 데이터 경로 설정\n",
    "train_data_path = os.path.join(data_dir, 'train.csv')\n",
    "test_data_path = os.path.join(data_dir, 'test.csv')\n",
    "\n",
    "# 데이터 로드\n",
    "train = pd.read_csv(train_data_path)\n",
    "test = pd.read_csv(test_data_path)"
   ]
  },
  {
   "cell_type": "code",
   "execution_count": 9,
   "id": "b2a58d82",
   "metadata": {},
   "outputs": [
    {
     "name": "stdout",
     "output_type": "stream",
     "text": [
      "Train and test data concatenated.\n"
     ]
    }
   ],
   "source": [
    "# --- 3. 기본 데이터 준비 ---\n",
    "y_original = train['price']\n",
    "y_log = np.log1p(y_original)\n",
    "test_id = test['id']     # 테스트 ID 저장\n",
    "\n",
    "# 가격 컬럼 및 ID 컬럼 드롭 (ID는 test_id로 저장했으므로)\n",
    "train_df = train.drop(columns=['price'])\n",
    "\n",
    "# 나중에 분리하기 위해 학습 데이터 길이 저장\n",
    "train_len = len(train_df)\n",
    "\n",
    "# 학습 데이터와 테스트 데이터 합치기\n",
    "data = pd.concat((train_df, test), axis=0).reset_index(drop=True)\n",
    "# ID 컬럼은 test_id로 저장했으므로 전체 데이터에서 제거\n",
    "data = data.drop(columns=['id'])\n",
    "print(\"Train and test data concatenated.\")"
   ]
  },
  {
   "cell_type": "code",
   "execution_count": 10,
   "id": "8a37f3fc",
   "metadata": {},
   "outputs": [
    {
     "name": "stdout",
     "output_type": "stream",
     "text": [
      "\n",
      "Placeholder: Add derived location features (zipcode stats, distance, clusters) here for better performance.\n",
      "Applying One-Hot Encoding to 'zipcode'...\n",
      "Zipcode encoded. Number of columns increased to: 94\n",
      "\n",
      "Columns dropped: ['date', 'yr_built', 'yr_renovated', 'sale_year', 'sqft_basement']\n",
      "Total columns remaining: 89\n"
     ]
    }
   ],
   "source": [
    "# --- 4. Feature Engineering (위치 정보 유지!) ---\n",
    "\n",
    "# 4.1. Date 처리\n",
    "def convert_date(df: pd.DataFrame) -> pd.DataFrame:\n",
    "    if 'date' in df.columns:\n",
    "        df['date'] = df['date'].apply(lambda x: int(str(x)[:6]))\n",
    "    else:\n",
    "        print(\"Warning: 'date' column not found.\")\n",
    "    return df\n",
    "data = convert_date(data)\n",
    "\n",
    "# 4.2. Year/Age 특징 생성\n",
    "if 'date' in data.columns and 'yr_built' in data.columns:\n",
    "    data['sale_year'] = data['date'].astype(str).str[:4].astype(int)\n",
    "    data['age'] = data['sale_year'] - data['yr_built']\n",
    "else:\n",
    "    print(\"Warning: Could not create 'age' feature.\")\n",
    "\n",
    "if 'sale_year' in data.columns and 'yr_renovated' in data.columns and 'yr_built' in data.columns:\n",
    "    effective_renovation_year = np.where(\n",
    "        data['yr_renovated'] == 0, data['yr_built'], data['yr_renovated']\n",
    "    )\n",
    "    data['age_renovated'] = data['sale_year'] - effective_renovation_year\n",
    "else:\n",
    "     print(\"Warning: Could not create 'age_renovated' feature.\")\n",
    "\n",
    "# 4.3. Area/Ratio 특징 생성\n",
    "data['sqft_basement'] = data['sqft_basement'].fillna(0) # 결측치 처리\n",
    "\n",
    "area_cols = ['sqft_living', 'sqft_basement', 'sqft_above', 'sqft_lot', 'sqft_living15', 'sqft_lot15']\n",
    "if all(col in data.columns for col in area_cols):\n",
    "    data['total_sqft'] = data[area_cols].sum(axis=1)\n",
    "    data['basement_finished_ratio'] = data['sqft_basement'] / data['total_sqft']\n",
    "    data['basement_finished_ratio'] = data['basement_finished_ratio'].fillna(0)\n",
    "    data.loc[data['total_sqft'] == 0, 'basement_finished_ratio'] = 0\n",
    "else:\n",
    "    print(f\"Warning: Could not create 'total_sqft'. Missing components.\")\n",
    "    if 'basement_finished_ratio' not in data.columns: data['basement_finished_ratio'] = 0\n",
    "\n",
    "if 'sqft_living' in data.columns and 'sqft_lot' in data.columns:\n",
    "    data['living_lot_ratio'] = data['sqft_living'] / data['sqft_lot']\n",
    "    data.loc[data['sqft_lot'] == 0, 'living_lot_ratio'] = 0\n",
    "else:\n",
    "    print(\"Warning: Could not create 'living_lot_ratio'.\")\n",
    "    if 'living_lot_ratio' not in data.columns: data['living_lot_ratio'] = 0\n",
    "\n",
    "# --- [중요] 파생 위치 Feature 추가 영역 ---\n",
    "print(\"\\nPlaceholder: Add derived location features (zipcode stats, distance, clusters) here for better performance.\")\n",
    "# 예시: data['zip_mean_price'] = data.groupby('zipcode')['price'].transform('mean')\n",
    "#      (주의: 위 예시는 Data Leakage 발생 가능. K-Fold 내에서 처리 필요)\n",
    "# 지금은 Raw 위도, 경도, 우편번호만 사용합니다.\n",
    "\n",
    "# --- 4.4. 범주형 Feature 처리: Zipcode (One-Hot Encoding) ---\n",
    "if 'zipcode' in data.columns:\n",
    "    print(\"Applying One-Hot Encoding to 'zipcode'...\")\n",
    "    data['zipcode'] = data['zipcode'].astype(str) # 문자열로 변환\n",
    "    data = pd.get_dummies(data, columns=['zipcode'], prefix='zip', dummy_na=False)\n",
    "    print(f\"Zipcode encoded. Number of columns increased to: {data.shape[1]}\")\n",
    "else:\n",
    "    print(\"Warning: 'zipcode' column not found for encoding.\")\n",
    "\n",
    "# --- 4.5. 불필요 컬럼 제거 (위치 정보는 유지!) ---\n",
    "cols_to_drop = ['date', 'yr_built', 'yr_renovated', 'sale_year', 'sqft_basement']\n",
    "cols_to_drop_existing = [col for col in cols_to_drop if col in data.columns]\n",
    "data = data.drop(columns=cols_to_drop_existing, errors='ignore')\n",
    "print(f\"\\nColumns dropped: {cols_to_drop_existing}\")\n",
    "print(f\"Total columns remaining: {data.shape[1]}\")\n",
    "# print(\"Remaining columns:\", data.columns.tolist()) # 너무 많으면 주석 처리"
   ]
  },
  {
   "cell_type": "code",
   "execution_count": 11,
   "id": "b5a8d6e9",
   "metadata": {},
   "outputs": [
    {
     "name": "stdout",
     "output_type": "stream",
     "text": [
      "\n",
      "Data split back into X (train features) and X_test (test features).\n",
      "Shape of X: (15035, 89)\n",
      "Shape of X_test: (6468, 89)\n"
     ]
    }
   ],
   "source": [
    "# --- 5. 데이터 분리 ---\n",
    "X = data[:train_len]\n",
    "X_test = data[train_len:] # 테스트셋 (나중에 최종 예측 시 사용)\n",
    "print(\"\\nData split back into X (train features) and X_test (test features).\")\n",
    "print(\"Shape of X:\", X.shape)\n",
    "print(\"Shape of X_test:\", X_test.shape)"
   ]
  },
  {
   "cell_type": "code",
   "execution_count": 12,
   "id": "e98f297a",
   "metadata": {},
   "outputs": [
    {
     "name": "stdout",
     "output_type": "stream",
     "text": [
      "\n",
      "Scaling 19 numerical features...\n",
      "Scaling complete.\n"
     ]
    },
    {
     "name": "stderr",
     "output_type": "stream",
     "text": [
      "/opt/conda/lib/python3.9/site-packages/pandas/core/frame.py:3678: SettingWithCopyWarning: \n",
      "A value is trying to be set on a copy of a slice from a DataFrame.\n",
      "Try using .loc[row_indexer,col_indexer] = value instead\n",
      "\n",
      "See the caveats in the documentation: https://pandas.pydata.org/pandas-docs/stable/user_guide/indexing.html#returning-a-view-versus-a-copy\n",
      "  self[col] = igetitem(value, i)\n",
      "/opt/conda/lib/python3.9/site-packages/pandas/core/frame.py:3678: SettingWithCopyWarning: \n",
      "A value is trying to be set on a copy of a slice from a DataFrame.\n",
      "Try using .loc[row_indexer,col_indexer] = value instead\n",
      "\n",
      "See the caveats in the documentation: https://pandas.pydata.org/pandas-docs/stable/user_guide/indexing.html#returning-a-view-versus-a-copy\n",
      "  self[col] = igetitem(value, i)\n"
     ]
    }
   ],
   "source": [
    "# --- 6. 스케일링 (수치형만, One-Hot 제외) ---\n",
    "numerical_cols = X.select_dtypes(include=np.number).columns.tolist()\n",
    "zip_cols = [col for col in X.columns if col.startswith('zip_')]\n",
    "numerical_cols_to_scale = [col for col in numerical_cols if col not in zip_cols]\n",
    "\n",
    "if numerical_cols_to_scale:\n",
    "    print(f\"\\nScaling {len(numerical_cols_to_scale)} numerical features...\")\n",
    "    scaler = StandardScaler()\n",
    "    X[numerical_cols_to_scale] = scaler.fit_transform(X[numerical_cols_to_scale])\n",
    "    # 테스트 데이터에도 동일한 스케일러 적용\n",
    "    X_test[numerical_cols_to_scale] = scaler.transform(X_test[numerical_cols_to_scale])\n",
    "    print(\"Scaling complete.\")\n",
    "else:\n",
    "    print(\"\\nNo numerical columns found to scale.\")"
   ]
  },
  {
   "cell_type": "code",
   "execution_count": 13,
   "id": "f16e5de6",
   "metadata": {},
   "outputs": [
    {
     "name": "stdout",
     "output_type": "stream",
     "text": [
      "\n",
      "Using best parameters for K-Fold CV: {'bagging_fraction': 0.7159005811655073, 'feature_fraction': 0.6644885149016018, 'lambda_l1': 5.233480488540084, 'lambda_l2': 1.7079750342958222, 'learning_rate': 0.021496797273657196, 'max_depth': 10, 'metric': 'rmse', 'n_estimators': 1851, 'num_leaves': 39, 'objective': 'regression_l1', 'random_state': 42, 'verbose': -1}\n",
      "\n",
      "Running K-Fold CV with best parameters AND raw location features...\n",
      "--- Fold 1 ---\n",
      "[LightGBM] [Warning] lambda_l1 is set=5.233480488540084, reg_alpha=0.0 will be ignored. Current value: lambda_l1=5.233480488540084\n",
      "[LightGBM] [Warning] bagging_fraction is set=0.7159005811655073, subsample=1.0 will be ignored. Current value: bagging_fraction=0.7159005811655073\n",
      "[LightGBM] [Warning] feature_fraction is set=0.6644885149016018, colsample_bytree=1.0 will be ignored. Current value: feature_fraction=0.6644885149016018\n",
      "[LightGBM] [Warning] lambda_l2 is set=1.7079750342958222, reg_lambda=0.0 will be ignored. Current value: lambda_l2=1.7079750342958222\n",
      "Fold 1 Original Scale RMSE: 110956.5094\n",
      "--- Fold 2 ---\n",
      "[LightGBM] [Warning] lambda_l1 is set=5.233480488540084, reg_alpha=0.0 will be ignored. Current value: lambda_l1=5.233480488540084\n",
      "[LightGBM] [Warning] bagging_fraction is set=0.7159005811655073, subsample=1.0 will be ignored. Current value: bagging_fraction=0.7159005811655073\n",
      "[LightGBM] [Warning] feature_fraction is set=0.6644885149016018, colsample_bytree=1.0 will be ignored. Current value: feature_fraction=0.6644885149016018\n",
      "[LightGBM] [Warning] lambda_l2 is set=1.7079750342958222, reg_lambda=0.0 will be ignored. Current value: lambda_l2=1.7079750342958222\n",
      "Fold 2 Original Scale RMSE: 103203.3774\n",
      "--- Fold 3 ---\n",
      "[LightGBM] [Warning] lambda_l1 is set=5.233480488540084, reg_alpha=0.0 will be ignored. Current value: lambda_l1=5.233480488540084\n",
      "[LightGBM] [Warning] bagging_fraction is set=0.7159005811655073, subsample=1.0 will be ignored. Current value: bagging_fraction=0.7159005811655073\n",
      "[LightGBM] [Warning] feature_fraction is set=0.6644885149016018, colsample_bytree=1.0 will be ignored. Current value: feature_fraction=0.6644885149016018\n",
      "[LightGBM] [Warning] lambda_l2 is set=1.7079750342958222, reg_lambda=0.0 will be ignored. Current value: lambda_l2=1.7079750342958222\n",
      "Fold 3 Original Scale RMSE: 113497.6596\n",
      "--- Fold 4 ---\n",
      "[LightGBM] [Warning] lambda_l1 is set=5.233480488540084, reg_alpha=0.0 will be ignored. Current value: lambda_l1=5.233480488540084\n",
      "[LightGBM] [Warning] bagging_fraction is set=0.7159005811655073, subsample=1.0 will be ignored. Current value: bagging_fraction=0.7159005811655073\n",
      "[LightGBM] [Warning] feature_fraction is set=0.6644885149016018, colsample_bytree=1.0 will be ignored. Current value: feature_fraction=0.6644885149016018\n",
      "[LightGBM] [Warning] lambda_l2 is set=1.7079750342958222, reg_lambda=0.0 will be ignored. Current value: lambda_l2=1.7079750342958222\n",
      "Fold 4 Original Scale RMSE: 145738.0378\n",
      "--- Fold 5 ---\n",
      "[LightGBM] [Warning] lambda_l1 is set=5.233480488540084, reg_alpha=0.0 will be ignored. Current value: lambda_l1=5.233480488540084\n",
      "[LightGBM] [Warning] bagging_fraction is set=0.7159005811655073, subsample=1.0 will be ignored. Current value: bagging_fraction=0.7159005811655073\n",
      "[LightGBM] [Warning] feature_fraction is set=0.6644885149016018, colsample_bytree=1.0 will be ignored. Current value: feature_fraction=0.6644885149016018\n",
      "[LightGBM] [Warning] lambda_l2 is set=1.7079750342958222, reg_lambda=0.0 will be ignored. Current value: lambda_l2=1.7079750342958222\n",
      "Fold 5 Original Scale RMSE: 115096.9355\n",
      "\n",
      "======================================================\n",
      "Estimated Average CV RMSE (Original Scale) with raw location features: 117698.5039\n",
      "======================================================\n",
      "Target RMSE: 110000\n",
      "CV score is still above the target by 7698.5039.\n",
      "-> Next step: Implement derived location features (zipcode stats, distance, clusters) for further improvement.\n"
     ]
    }
   ],
   "source": [
    "# --- 7. K-Fold 교차 검증 (최적 파라미터 사용) ---\n",
    "\n",
    "# 7.1. 이전 RandomizedSearch에서 찾은 최적 파라미터 사용\n",
    "best_params = {'bagging_fraction': 0.7159005811655073, 'feature_fraction': 0.6644885149016018, 'lambda_l1': 5.233480488540084, 'lambda_l2': 1.7079750342958222, 'learning_rate': 0.021496797273657196, 'max_depth': 10, 'metric': 'rmse', 'n_estimators': 1851, 'num_leaves': 39, 'objective': 'regression_l1', 'seed': 42}\n",
    "\n",
    "final_params = {}\n",
    "for key, value in best_params.items():\n",
    "    if isinstance(value, list) and len(value) > 0: final_params[key] = value[0]\n",
    "    else: final_params[key] = value\n",
    "if 'random_state' not in final_params: final_params['random_state'] = 42\n",
    "final_params.pop('seed', None)\n",
    "if 'n_estimators' not in final_params: final_params['n_estimators'] = 1851 # best_params에 있었음\n",
    "final_params['verbose'] = -1 # 로그 줄이기\n",
    "\n",
    "print(\"\\nUsing best parameters for K-Fold CV:\", final_params)\n",
    "\n",
    "# 7.2. K-Fold 설정\n",
    "kf = KFold(n_splits=5, shuffle=True, random_state=42)\n",
    "\n",
    "# 7.3. K-Fold 루프 실행\n",
    "original_scale_fold_rmses = []\n",
    "print(\"\\nRunning K-Fold CV with best parameters AND raw location features...\")\n",
    "\n",
    "for fold, (train_idx, val_idx) in enumerate(kf.split(X, y_log)):\n",
    "    print(f\"--- Fold {fold+1} ---\")\n",
    "    X_train_fold, X_val_fold = X.iloc[train_idx], X.iloc[val_idx]\n",
    "    y_train_log_fold, y_val_log_fold = y_log.iloc[train_idx], y_log.iloc[val_idx]\n",
    "    y_val_original_fold = y_original.iloc[val_idx]\n",
    "\n",
    "    model = lgb.LGBMRegressor(**final_params)\n",
    "    model.fit(X_train_fold, y_train_log_fold,\n",
    "              eval_set=[(X_val_fold, y_val_log_fold)],\n",
    "              eval_metric='rmse',\n",
    "              callbacks=[lgb.early_stopping(100, verbose=False)])\n",
    "\n",
    "    y_pred_log = model.predict(X_val_fold)\n",
    "    y_pred_original = np.expm1(y_pred_log)\n",
    "    y_pred_original[y_pred_original < 0] = 0\n",
    "\n",
    "    rmse = np.sqrt(mean_squared_error(y_val_original_fold, y_pred_original))\n",
    "    original_scale_fold_rmses.append(rmse)\n",
    "    print(f\"Fold {fold+1} Original Scale RMSE: {rmse:.4f}\")\n",
    "\n",
    "# 7.4. 최종 평균 CV RMSE 출력\n",
    "mean_original_rmse = np.mean(original_scale_fold_rmses)\n",
    "print(f\"\\n======================================================\")\n",
    "print(f\"Estimated Average CV RMSE (Original Scale) with raw location features: {mean_original_rmse:.4f}\")\n",
    "print(f\"======================================================\")\n",
    "\n",
    "target_rmse = 110000\n",
    "print(f\"Target RMSE: {target_rmse}\")\n",
    "if mean_original_rmse < target_rmse:\n",
    "    print(\"CV score is below the target! Good sign.\")\n",
    "else:\n",
    "    print(f\"CV score is still above the target by {mean_original_rmse - target_rmse:.4f}.\")\n",
    "    print(\"-> Next step: Implement derived location features (zipcode stats, distance, clusters) for further improvement.\")"
   ]
  },
  {
   "cell_type": "code",
   "execution_count": 14,
   "id": "ab89be11",
   "metadata": {},
   "outputs": [
    {
     "name": "stdout",
     "output_type": "stream",
     "text": [
      "\n",
      "Training final model...\n",
      "[LightGBM] [Warning] lambda_l1 is set=5.233480488540084, reg_alpha=0.0 will be ignored. Current value: lambda_l1=5.233480488540084\n",
      "[LightGBM] [Warning] bagging_fraction is set=0.7159005811655073, subsample=1.0 will be ignored. Current value: bagging_fraction=0.7159005811655073\n",
      "[LightGBM] [Warning] feature_fraction is set=0.6644885149016018, colsample_bytree=1.0 will be ignored. Current value: feature_fraction=0.6644885149016018\n",
      "[LightGBM] [Warning] lambda_l2 is set=1.7079750342958222, reg_lambda=0.0 will be ignored. Current value: lambda_l2=1.7079750342958222\n",
      "Predicting test data...\n",
      "Submission file saved to: /aiffel/aiffel/kaggle_kakr_housing/data/submission_lgbm_with_raw_location_v1.csv\n"
     ]
    }
   ],
   "source": [
    "# --- 8. [참고] 최종 예측 및 제출 파일 생성 (대회 종료됨) ---\n",
    "# 필요 시 주석 해제하여 실행 (현재는 CV 결과 확인이 주 목적)\n",
    "print(\"\\nTraining final model...\")\n",
    "final_model = lgb.LGBMRegressor(**final_params)\n",
    "final_model.fit(X, y_log)\n",
    "print(\"Predicting test data...\")\n",
    "test_pred_log = final_model.predict(X_test)\n",
    "test_pred_original = np.expm1(test_pred_log)\n",
    "test_pred_original[test_pred_original < 0] = 0\n",
    "submission = pd.DataFrame({'id': test_id, 'price': test_pred_original})\n",
    "submission_path = os.path.join(data_dir, 'submission_lgbm_with_raw_location_v1.csv')\n",
    "submission.to_csv(submission_path, index=False)\n",
    "print(f\"Submission file saved to: {submission_path}\")"
   ]
  },
  {
   "cell_type": "code",
   "execution_count": null,
   "id": "1d3ac4e2",
   "metadata": {},
   "outputs": [],
   "source": []
  }
 ],
 "metadata": {
  "kernelspec": {
   "display_name": "Python 3 (ipykernel)",
   "language": "python",
   "name": "python3"
  },
  "language_info": {
   "codemirror_mode": {
    "name": "ipython",
    "version": 3
   },
   "file_extension": ".py",
   "mimetype": "text/x-python",
   "name": "python",
   "nbconvert_exporter": "python",
   "pygments_lexer": "ipython3",
   "version": "3.9.7"
  }
 },
 "nbformat": 4,
 "nbformat_minor": 5
}
